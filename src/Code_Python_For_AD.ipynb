{
 "cells": [
  {
   "cell_type": "code",
   "execution_count": 1,
   "id": "07f0812b",
   "metadata": {
    "execution": {
     "iopub.execute_input": "2023-10-01T08:58:30.579811Z",
     "iopub.status.busy": "2023-10-01T08:58:30.579459Z",
     "iopub.status.idle": "2023-10-01T08:58:32.857226Z",
     "shell.execute_reply": "2023-10-01T08:58:32.856205Z"
    },
    "papermill": {
     "duration": 2.291567,
     "end_time": "2023-10-01T08:58:32.859579",
     "exception": false,
     "start_time": "2023-10-01T08:58:30.568012",
     "status": "completed"
    },
    "tags": []
   },
   "outputs": [],
   "source": [
    "import pandas as pd\n",
    "import numpy as np\n",
    "import seaborn as sns\n",
    "import matplotlib as mpl\n",
    "import matplotlib.pyplot as plt\n",
    "import sklearn.feature_selection as fs\n",
    "from sklearn.model_selection import train_test_split, GridSearchCV\n",
    "from sklearn.linear_model import LinearRegression\n",
    "from sklearn.neighbors import KNeighborsRegressor\n",
    "from sklearn.metrics import mean_squared_error, r2_score\n",
    "%matplotlib inline"
   ]
  },
  {
   "cell_type": "markdown",
   "id": "0cfbc208",
   "metadata": {
    "papermill": {
     "duration": 0.009491,
     "end_time": "2023-10-01T08:58:32.879316",
     "exception": false,
     "start_time": "2023-10-01T08:58:32.869825",
     "status": "completed"
    },
    "tags": []
   },
   "source": [
    "### **1. Iportarea datelor CSV**"
   ]
  },
  {
   "cell_type": "code",
   "execution_count": 18,
   "id": "a6f47112",
   "metadata": {
    "execution": {
     "iopub.execute_input": "2023-10-01T08:58:32.901674Z",
     "iopub.status.busy": "2023-10-01T08:58:32.900651Z",
     "iopub.status.idle": "2023-10-01T08:58:33.013000Z",
     "shell.execute_reply": "2023-10-01T08:58:33.011888Z"
    },
    "papermill": {
     "duration": 0.126143,
     "end_time": "2023-10-01T08:58:33.015178",
     "exception": false,
     "start_time": "2023-10-01T08:58:32.889035",
     "status": "completed"
    },
    "tags": []
   },
   "outputs": [
    {
     "data": {
      "text/html": [
       "<div>\n",
       "<style scoped>\n",
       "    .dataframe tbody tr th:only-of-type {\n",
       "        vertical-align: middle;\n",
       "    }\n",
       "\n",
       "    .dataframe tbody tr th {\n",
       "        vertical-align: top;\n",
       "    }\n",
       "\n",
       "    .dataframe thead th {\n",
       "        text-align: right;\n",
       "    }\n",
       "</style>\n",
       "<table border=\"1\" class=\"dataframe\">\n",
       "  <thead>\n",
       "    <tr style=\"text-align: right;\">\n",
       "      <th></th>\n",
       "      <th>title</th>\n",
       "      <th>year</th>\n",
       "      <th>runtime</th>\n",
       "      <th>certificate</th>\n",
       "      <th>genre</th>\n",
       "      <th>director</th>\n",
       "      <th>stars</th>\n",
       "      <th>rating</th>\n",
       "      <th>metascore</th>\n",
       "      <th>votes</th>\n",
       "      <th>gross</th>\n",
       "    </tr>\n",
       "  </thead>\n",
       "  <tbody>\n",
       "    <tr>\n",
       "      <th>0</th>\n",
       "      <td>The Shawshank Redemption</td>\n",
       "      <td>1994</td>\n",
       "      <td>142</td>\n",
       "      <td>R</td>\n",
       "      <td>Drama</td>\n",
       "      <td>['Frank Darabont', 'Tim Robbins', 'Morgan Free...</td>\n",
       "      <td>['Tim Robbins', 'Morgan Freeman', 'Bob Gunton'...</td>\n",
       "      <td>9.3</td>\n",
       "      <td>82.0</td>\n",
       "      <td>2780534</td>\n",
       "      <td>28.34</td>\n",
       "    </tr>\n",
       "    <tr>\n",
       "      <th>1</th>\n",
       "      <td>The Godfather</td>\n",
       "      <td>1972</td>\n",
       "      <td>175</td>\n",
       "      <td>R</td>\n",
       "      <td>Crime, Drama</td>\n",
       "      <td>['Francis Ford Coppola', 'Marlon Brando', 'Al ...</td>\n",
       "      <td>['Marlon Brando', 'Al Pacino', 'James Caan', '...</td>\n",
       "      <td>9.2</td>\n",
       "      <td>100.0</td>\n",
       "      <td>1935895</td>\n",
       "      <td>134.97</td>\n",
       "    </tr>\n",
       "    <tr>\n",
       "      <th>2</th>\n",
       "      <td>Ramayana: The Legend of Prince Rama</td>\n",
       "      <td>1993</td>\n",
       "      <td>135</td>\n",
       "      <td>PG</td>\n",
       "      <td>Animation, Action, Adventure</td>\n",
       "      <td>['Ram Mohan', 'Yûgô Sakô', 'Koichi Saski', 'Ar...</td>\n",
       "      <td>['Yûgô Sakô', 'Koichi Saski', 'Arun Govil', 'N...</td>\n",
       "      <td>9.2</td>\n",
       "      <td>NaN</td>\n",
       "      <td>12470</td>\n",
       "      <td>NaN</td>\n",
       "    </tr>\n",
       "    <tr>\n",
       "      <th>3</th>\n",
       "      <td>The Chaos Class</td>\n",
       "      <td>1975</td>\n",
       "      <td>87</td>\n",
       "      <td>NaN</td>\n",
       "      <td>Comedy, Drama</td>\n",
       "      <td>['Ertem Egilmez', 'Kemal Sunal', 'Münir Özkul'...</td>\n",
       "      <td>['Kemal Sunal', 'Münir Özkul', 'Halit Akçatepe...</td>\n",
       "      <td>9.2</td>\n",
       "      <td>NaN</td>\n",
       "      <td>42018</td>\n",
       "      <td>NaN</td>\n",
       "    </tr>\n",
       "    <tr>\n",
       "      <th>4</th>\n",
       "      <td>Daman</td>\n",
       "      <td>2022</td>\n",
       "      <td>121</td>\n",
       "      <td>NaN</td>\n",
       "      <td>Adventure, Drama</td>\n",
       "      <td>['Lenka Debiprasad', 'Vishal Mourya', 'Karan K...</td>\n",
       "      <td>['Vishal Mourya', 'Karan Kandhapan', 'Babushan...</td>\n",
       "      <td>9.1</td>\n",
       "      <td>NaN</td>\n",
       "      <td>13372</td>\n",
       "      <td>NaN</td>\n",
       "    </tr>\n",
       "  </tbody>\n",
       "</table>\n",
       "</div>"
      ],
      "text/plain": [
       "                                 title  year  runtime certificate  \\\n",
       "0             The Shawshank Redemption  1994      142           R   \n",
       "1                        The Godfather  1972      175           R   \n",
       "2  Ramayana: The Legend of Prince Rama  1993      135          PG   \n",
       "3                      The Chaos Class  1975       87         NaN   \n",
       "4                                Daman  2022      121         NaN   \n",
       "\n",
       "                          genre  \\\n",
       "0                         Drama   \n",
       "1                  Crime, Drama   \n",
       "2  Animation, Action, Adventure   \n",
       "3                 Comedy, Drama   \n",
       "4              Adventure, Drama   \n",
       "\n",
       "                                            director  \\\n",
       "0  ['Frank Darabont', 'Tim Robbins', 'Morgan Free...   \n",
       "1  ['Francis Ford Coppola', 'Marlon Brando', 'Al ...   \n",
       "2  ['Ram Mohan', 'Yûgô Sakô', 'Koichi Saski', 'Ar...   \n",
       "3  ['Ertem Egilmez', 'Kemal Sunal', 'Münir Özkul'...   \n",
       "4  ['Lenka Debiprasad', 'Vishal Mourya', 'Karan K...   \n",
       "\n",
       "                                               stars  rating  metascore  \\\n",
       "0  ['Tim Robbins', 'Morgan Freeman', 'Bob Gunton'...     9.3       82.0   \n",
       "1  ['Marlon Brando', 'Al Pacino', 'James Caan', '...     9.2      100.0   \n",
       "2  ['Yûgô Sakô', 'Koichi Saski', 'Arun Govil', 'N...     9.2        NaN   \n",
       "3  ['Kemal Sunal', 'Münir Özkul', 'Halit Akçatepe...     9.2        NaN   \n",
       "4  ['Vishal Mourya', 'Karan Kandhapan', 'Babushan...     9.1        NaN   \n",
       "\n",
       "     votes   gross  \n",
       "0  2780534   28.34  \n",
       "1  1935895  134.97  \n",
       "2    12470     NaN  \n",
       "3    42018     NaN  \n",
       "4    13372     NaN  "
      ]
     },
     "execution_count": 18,
     "metadata": {},
     "output_type": "execute_result"
    }
   ],
   "source": [
    "movies_df = pd.read_csv('../Data\\Setul de date Filme.csv')\n",
    "movies_df.head()"
   ]
  },
  {
   "cell_type": "code",
   "execution_count": null,
   "id": "9b2830db",
   "metadata": {
    "execution": {
     "iopub.execute_input": "2023-10-01T08:58:33.056481Z",
     "iopub.status.busy": "2023-10-01T08:58:33.056094Z",
     "iopub.status.idle": "2023-10-01T08:58:33.063231Z",
     "shell.execute_reply": "2023-10-01T08:58:33.062094Z"
    },
    "papermill": {
     "duration": 0.020338,
     "end_time": "2023-10-01T08:58:33.064990",
     "exception": false,
     "start_time": "2023-10-01T08:58:33.044652",
     "status": "completed"
    },
    "tags": []
   },
   "outputs": [],
   "source": [
    "# Converts string to list\n",
    "def convert_to_list(string):\n",
    "    try:\n",
    "        string = string.replace(\"[\", \"\") # Remove opening brackets\n",
    "        string = string.replace(\"]\", \"\") # Remove closing brackets\n",
    "        string = string.replace(\"'\", \"\") # Remove ' characters\n",
    "        li = string.split(\", \")\n",
    "    except AttributeError:\n",
    "        return string\n",
    "    return li\n",
    "\n",
    "# Given an input list, for each element, finds the average rating of movies where the element is in col_name\n",
    "def find_avg_rating(li, col_name):\n",
    "    avg_ratings = []\n",
    "    li = [str(x) for x in li]\n",
    "    for elem in li:\n",
    "        temp_df = movies_df[movies_df[col_name].astype(str).str.contains(elem)]\n",
    "        avg_ratings.append(temp_df['rating'].mean())\n",
    "    return avg_ratings"
   ]
  },
  {
   "cell_type": "markdown",
   "id": "320597be",
   "metadata": {
    "papermill": {
     "duration": 0.009776,
     "end_time": "2023-10-01T08:58:33.085130",
     "exception": false,
     "start_time": "2023-10-01T08:58:33.075354",
     "status": "completed"
    },
    "tags": []
   },
   "source": [
    "### **Preprocesarea datelor**"
   ]
  },
  {
   "cell_type": "code",
   "execution_count": null,
   "id": "2afbae34",
   "metadata": {
    "execution": {
     "iopub.execute_input": "2023-10-01T08:58:33.106931Z",
     "iopub.status.busy": "2023-10-01T08:58:33.106262Z",
     "iopub.status.idle": "2023-10-01T08:58:33.113272Z",
     "shell.execute_reply": "2023-10-01T08:58:33.112286Z"
    },
    "papermill": {
     "duration": 0.020028,
     "end_time": "2023-10-01T08:58:33.115125",
     "exception": false,
     "start_time": "2023-10-01T08:58:33.095097",
     "status": "completed"
    },
    "tags": []
   },
   "outputs": [],
   "source": [
    "movies_df.dtypes"
   ]
  },
  {
   "cell_type": "code",
   "execution_count": null,
   "id": "884016f1",
   "metadata": {
    "execution": {
     "iopub.execute_input": "2023-10-01T08:58:33.178577Z",
     "iopub.status.busy": "2023-10-01T08:58:33.177911Z",
     "iopub.status.idle": "2023-10-01T08:58:33.205752Z",
     "shell.execute_reply": "2023-10-01T08:58:33.204685Z"
    },
    "papermill": {
     "duration": 0.04169,
     "end_time": "2023-10-01T08:58:33.208324",
     "exception": false,
     "start_time": "2023-10-01T08:58:33.166634",
     "status": "completed"
    },
    "tags": []
   },
   "outputs": [],
   "source": [
    "# Replace all empty cells with NaN\n",
    "movies_df = movies_df.mask(movies_df == '')\n",
    "# Standarize 'year' column as YYYY\n",
    "if movies_df['year'].dtype == object:\n",
    "    movies_df['year'] = movies_df['year'].map(lambda x: x[-4:])\n",
    "# Change numerical features to appropriate numerical datatypes\n",
    "movies_df['year'] = pd.to_numeric(movies_df['year'])\n",
    "movies_df['runtime'] = pd.to_numeric(movies_df['runtime'])\n",
    "movies_df['rating'] = pd.to_numeric(movies_df['rating'])\n",
    "movies_df['metascore'] = pd.to_numeric(movies_df['metascore'])\n",
    "movies_df['votes'] = pd.to_numeric(movies_df['votes'])\n",
    "movies_df['gross'] = pd.to_numeric(movies_df['gross'])"
   ]
  },
  {
   "cell_type": "code",
   "execution_count": null,
   "id": "5c9e4062",
   "metadata": {
    "execution": {
     "iopub.execute_input": "2023-10-01T08:58:33.230250Z",
     "iopub.status.busy": "2023-10-01T08:58:33.229862Z",
     "iopub.status.idle": "2023-10-01T08:58:33.288793Z",
     "shell.execute_reply": "2023-10-01T08:58:33.288035Z"
    },
    "papermill": {
     "duration": 0.072535,
     "end_time": "2023-10-01T08:58:33.290965",
     "exception": false,
     "start_time": "2023-10-01T08:58:33.218430",
     "status": "completed"
    },
    "tags": []
   },
   "outputs": [],
   "source": [
    "# Convert director, stars and genre columns from strings to lists\n",
    "movies_df['director'] = movies_df['director'].map(convert_to_list)\n",
    "movies_df['stars'] = movies_df['stars'].map(convert_to_list)\n",
    "movies_df['genre'] = movies_df['genre'].map(convert_to_list)"
   ]
  },
  {
   "cell_type": "markdown",
   "id": "d880885d",
   "metadata": {
    "papermill": {
     "duration": 0.06942,
     "end_time": "2023-10-01T08:58:33.370482",
     "exception": false,
     "start_time": "2023-10-01T08:58:33.301062",
     "status": "completed"
    },
    "tags": []
   },
   "source": [
    "#### **Gestionarea valorilor lipsă**"
   ]
  },
  {
   "cell_type": "code",
   "execution_count": null,
   "id": "0a55f675",
   "metadata": {
    "execution": {
     "iopub.execute_input": "2023-10-01T08:58:33.412928Z",
     "iopub.status.busy": "2023-10-01T08:58:33.411846Z",
     "iopub.status.idle": "2023-10-01T08:58:33.425490Z",
     "shell.execute_reply": "2023-10-01T08:58:33.423560Z"
    },
    "papermill": {
     "duration": 0.026851,
     "end_time": "2023-10-01T08:58:33.427536",
     "exception": false,
     "start_time": "2023-10-01T08:58:33.400685",
     "status": "completed"
    },
    "tags": []
   },
   "outputs": [],
   "source": [
    "# Print the percentages of NaN values for each column\n",
    "display(movies_df.isnull().sum()*100/len(movies_df))"
   ]
  },
  {
   "cell_type": "markdown",
   "id": "26c2b7dd",
   "metadata": {
    "papermill": {
     "duration": 0.009719,
     "end_time": "2023-10-01T08:58:33.468530",
     "exception": false,
     "start_time": "2023-10-01T08:58:33.458811",
     "status": "completed"
    },
    "tags": []
   },
   "source": [
    "#### **Modele de antrenament pentru predicția Metascore**"
   ]
  },
  {
   "cell_type": "markdown",
   "id": "3e01644b",
   "metadata": {
    "papermill": {
     "duration": 0.009807,
     "end_time": "2023-10-01T08:58:33.488377",
     "exception": false,
     "start_time": "2023-10-01T08:58:33.478570",
     "status": "completed"
    },
    "tags": []
   },
   "source": [
    "#### **Crearea de seturi de antrenament și testare**"
   ]
  },
  {
   "cell_type": "code",
   "execution_count": null,
   "id": "090bea08",
   "metadata": {
    "execution": {
     "iopub.execute_input": "2023-10-01T08:58:33.510213Z",
     "iopub.status.busy": "2023-10-01T08:58:33.509788Z",
     "iopub.status.idle": "2023-10-01T08:58:33.527607Z",
     "shell.execute_reply": "2023-10-01T08:58:33.526501Z"
    },
    "papermill": {
     "duration": 0.031435,
     "end_time": "2023-10-01T08:58:33.529906",
     "exception": false,
     "start_time": "2023-10-01T08:58:33.498471",
     "status": "completed"
    },
    "tags": []
   },
   "outputs": [],
   "source": [
    "# Create new dataframe where all rows with any missing values and all non-numerical columns are dropped\n",
    "meta_df = movies_df.dropna()\n",
    "meta_df = meta_df.select_dtypes(include='number')\n",
    "X, y = meta_df.drop('metascore', axis=1), meta_df['metascore']\n",
    "# Split data into training and testing sets\n",
    "train_X, test_X, train_y, test_y = train_test_split(X, y, test_size=0.2, random_state=5)"
   ]
  },
  {
   "cell_type": "markdown",
   "id": "7ecc7fe5",
   "metadata": {
    "papermill": {
     "duration": 0.009925,
     "end_time": "2023-10-01T08:58:33.550078",
     "exception": false,
     "start_time": "2023-10-01T08:58:33.540153",
     "status": "completed"
    },
    "tags": []
   },
   "source": [
    "#### **Regresia liniară Metascore**"
   ]
  },
  {
   "cell_type": "code",
   "execution_count": null,
   "id": "22b70aaf",
   "metadata": {
    "execution": {
     "iopub.execute_input": "2023-10-01T08:58:33.572913Z",
     "iopub.status.busy": "2023-10-01T08:58:33.572516Z",
     "iopub.status.idle": "2023-10-01T08:58:33.714693Z",
     "shell.execute_reply": "2023-10-01T08:58:33.713589Z"
    },
    "papermill": {
     "duration": 0.155911,
     "end_time": "2023-10-01T08:58:33.716764",
     "exception": false,
     "start_time": "2023-10-01T08:58:33.560853",
     "status": "completed"
    },
    "tags": []
   },
   "outputs": [],
   "source": [
    "#training_imdb = np.array(meta_df.loc[:, 'rating'].tolist(), dtype=np.float32).reshape(-1, 1)\n",
    "#training_metascore = np.array(meta_df.loc[:, 'metascore'].tolist(), dtype=np.float32).reshape(-1, 1)\n",
    "\n",
    "# Create a linear regression model\n",
    "meta_lr = LinearRegression()\n",
    "# Use forward elimination to select variables\n",
    "sfs_lr = fs.SequentialFeatureSelector(meta_lr, direction='forward', tol=0.05, n_features_to_select='auto')\n",
    "sfs_lr.fit(train_X, train_y)\n",
    "# Print a list of selected variables\n",
    "print(list(X.loc[:, sfs_lr.get_support()].columns))\n",
    "# Transform X data to only contain selected variables\n",
    "train_X_sel_lr = sfs_lr.transform(train_X)\n",
    "test_X_sel_lr = sfs_lr.transform(test_X)\n",
    "# Fit Linear Regression model using selected variables\n",
    "meta_lr.fit(train_X_sel_lr, train_y)\n",
    "# Predict values for test set\n",
    "test_y_pred_lr = meta_lr.predict(test_X_sel_lr)\n",
    "# meta_linear.fit(training_imdb, training_metascore)"
   ]
  },
  {
   "cell_type": "markdown",
   "id": "26ded0e6",
   "metadata": {
    "papermill": {
     "duration": 0.010537,
     "end_time": "2023-10-01T08:58:33.737837",
     "exception": false,
     "start_time": "2023-10-01T08:58:33.727300",
     "status": "completed"
    },
    "tags": []
   },
   "source": [
    "#### **Metascore K-Cei mai apropiați vecini**"
   ]
  },
  {
   "cell_type": "code",
   "execution_count": null,
   "id": "52ef60b9",
   "metadata": {
    "execution": {
     "iopub.execute_input": "2023-10-01T08:58:33.760542Z",
     "iopub.status.busy": "2023-10-01T08:58:33.760175Z",
     "iopub.status.idle": "2023-10-01T08:58:36.615051Z",
     "shell.execute_reply": "2023-10-01T08:58:36.613916Z"
    },
    "papermill": {
     "duration": 2.869997,
     "end_time": "2023-10-01T08:58:36.618310",
     "exception": false,
     "start_time": "2023-10-01T08:58:33.748313",
     "status": "completed"
    },
    "tags": []
   },
   "outputs": [],
   "source": [
    "# Create a KNN regression model\n",
    "meta_knn = KNeighborsRegressor()\n",
    "# Use forward elimination to select variables\n",
    "sfs_knn = fs.SequentialFeatureSelector(meta_knn, direction='forward', tol=0.05, n_features_to_select='auto')\n",
    "sfs_knn.fit(train_X, train_y)\n",
    "# Print a list of selected variables\n",
    "print(list(X.loc[:, sfs_knn.get_support()].columns))\n",
    "# Transform X data to only contain selected variables\n",
    "train_X_sel_knn = sfs_knn.transform(train_X)\n",
    "test_X_sel_knn = sfs_knn.transform(test_X)\n",
    "# Perform a grid search with cross validation to select the most performant k value\n",
    "k_grid = {'n_neighbors': np.arange(1, np.floor(np.sqrt(len(train_X))), dtype=int)}\n",
    "meta_knn_gscv = GridSearchCV(meta_knn, k_grid, cv=5)\n",
    "meta_knn_gscv.fit(train_X_sel_knn, train_y)\n",
    "# Check the most performant k value found by grid search\n",
    "print(meta_knn_gscv.best_params_)\n",
    "# Set k value of KNN regression model to found K value\n",
    "meta_knn = KNeighborsRegressor(n_neighbors=meta_knn_gscv.best_params_['n_neighbors'])\n",
    "meta_knn.fit(train_X_sel_knn, train_y)\n",
    "# Predict values for test set\n",
    "test_y_pred_knn = meta_knn.predict(test_X_sel_knn)"
   ]
  },
  {
   "cell_type": "markdown",
   "id": "ec2031eb",
   "metadata": {
    "papermill": {
     "duration": 0.017651,
     "end_time": "2023-10-01T08:58:36.647249",
     "exception": false,
     "start_time": "2023-10-01T08:58:36.629598",
     "status": "completed"
    },
    "tags": []
   },
   "source": [
    "#### **Comparație de model**"
   ]
  },
  {
   "cell_type": "code",
   "execution_count": null,
   "id": "b8dbb587",
   "metadata": {
    "execution": {
     "iopub.execute_input": "2023-10-01T08:58:36.678398Z",
     "iopub.status.busy": "2023-10-01T08:58:36.678069Z",
     "iopub.status.idle": "2023-10-01T08:58:36.684982Z",
     "shell.execute_reply": "2023-10-01T08:58:36.684271Z"
    },
    "papermill": {
     "duration": 0.024891,
     "end_time": "2023-10-01T08:58:36.687459",
     "exception": false,
     "start_time": "2023-10-01T08:58:36.662568",
     "status": "completed"
    },
    "tags": []
   },
   "outputs": [],
   "source": [
    "# Compute mean squared error and R^2 scores for the linear regression model\n",
    "meta_mse_lr = mean_squared_error(test_y, test_y_pred_lr)\n",
    "meta_r2_lr = r2_score(test_y, test_y_pred_lr)\n",
    "\n",
    "# Compute mean squared error and R^2 scores for the KNN regression model\n",
    "meta_mse_knn = mean_squared_error(test_y, test_y_pred_knn)\n",
    "meta_r2_knn = r2_score(test_y, test_y_pred_knn)\n",
    "\n",
    "print(\"Linear Regression - MSE: {}, R^2: {}\".format(meta_mse_lr, meta_r2_lr))\n",
    "print(\"K-Nearest Neighbors - MSE: {}, R^2: {}\".format(meta_mse_knn, meta_r2_knn))"
   ]
  },
  {
   "cell_type": "markdown",
   "id": "3643de1f",
   "metadata": {
    "papermill": {
     "duration": 0.012366,
     "end_time": "2023-10-01T08:58:36.715761",
     "exception": false,
     "start_time": "2023-10-01T08:58:36.703395",
     "status": "completed"
    },
    "tags": []
   },
   "source": [
    "Modelul de regresie KNN are performanțe puțin mai bune cu o eroare pătratică medie mai mică și o valoare R^2 mai mare. Deci, modelul de regresie KNN va fi utilizat pentru a imputa valorile Metascore."
   ]
  },
  {
   "cell_type": "code",
   "execution_count": null,
   "id": "18707f7c",
   "metadata": {
    "execution": {
     "iopub.execute_input": "2023-10-01T08:58:36.740346Z",
     "iopub.status.busy": "2023-10-01T08:58:36.739816Z",
     "iopub.status.idle": "2023-10-01T08:58:36.835373Z",
     "shell.execute_reply": "2023-10-01T08:58:36.834227Z"
    },
    "papermill": {
     "duration": 0.109867,
     "end_time": "2023-10-01T08:58:36.837821",
     "exception": false,
     "start_time": "2023-10-01T08:58:36.727954",
     "status": "completed"
    },
    "tags": []
   },
   "outputs": [],
   "source": [
    "# Compute predicted values using KNN regression model for all rows and store it in new column 'pred_metascore'\n",
    "movies_df['pred_metascore'] = meta_knn.predict(np.array(movies_df['rating']).reshape(-1, 1))\n",
    "# Fill NaN values in original 'metascore' column with corresponding 'pred_metascore' value\n",
    "movies_df['metascore'] = movies_df['metascore'].fillna(movies_df['pred_metascore'])"
   ]
  },
  {
   "cell_type": "markdown",
   "id": "63777cc8",
   "metadata": {
    "papermill": {
     "duration": 0.010436,
     "end_time": "2023-10-01T08:58:36.858955",
     "exception": false,
     "start_time": "2023-10-01T08:58:36.848519",
     "status": "completed"
    },
    "tags": []
   },
   "source": [
    "#### **Modele de instruire pentru câștigul brut**"
   ]
  },
  {
   "cell_type": "markdown",
   "id": "2af1bcc9",
   "metadata": {
    "papermill": {
     "duration": 0.010056,
     "end_time": "2023-10-01T08:58:36.879446",
     "exception": false,
     "start_time": "2023-10-01T08:58:36.869390",
     "status": "completed"
    },
    "tags": []
   },
   "source": [
    "#### **Crearea de seturi de antrenament și testare**"
   ]
  },
  {
   "cell_type": "code",
   "execution_count": null,
   "id": "d15f308e",
   "metadata": {
    "execution": {
     "iopub.execute_input": "2023-10-01T08:58:36.902295Z",
     "iopub.status.busy": "2023-10-01T08:58:36.901946Z",
     "iopub.status.idle": "2023-10-01T08:58:36.911357Z",
     "shell.execute_reply": "2023-10-01T08:58:36.910389Z"
    },
    "papermill": {
     "duration": 0.023798,
     "end_time": "2023-10-01T08:58:36.913585",
     "exception": false,
     "start_time": "2023-10-01T08:58:36.889787",
     "status": "completed"
    },
    "tags": []
   },
   "outputs": [],
   "source": [
    "# Split columns into input and output variables\n",
    "X, y = meta_df.drop('gross', axis=1), meta_df['gross']\n",
    "# Split data into training and testing sets\n",
    "train_X, test_X, train_y, test_y = train_test_split(X, y, test_size=0.2, random_state=5)"
   ]
  },
  {
   "cell_type": "markdown",
   "id": "7dc42f98",
   "metadata": {
    "papermill": {
     "duration": 0.01029,
     "end_time": "2023-10-01T08:58:36.934646",
     "exception": false,
     "start_time": "2023-10-01T08:58:36.924356",
     "status": "completed"
    },
    "tags": []
   },
   "source": [
    "#### **Regresia liniară a veniturilor brute**"
   ]
  },
  {
   "cell_type": "code",
   "execution_count": null,
   "id": "5c5438e3",
   "metadata": {
    "execution": {
     "iopub.execute_input": "2023-10-01T08:58:36.960104Z",
     "iopub.status.busy": "2023-10-01T08:58:36.959728Z",
     "iopub.status.idle": "2023-10-01T08:58:37.087308Z",
     "shell.execute_reply": "2023-10-01T08:58:37.085769Z"
    },
    "papermill": {
     "duration": 0.142391,
     "end_time": "2023-10-01T08:58:37.089626",
     "exception": false,
     "start_time": "2023-10-01T08:58:36.947235",
     "status": "completed"
    },
    "tags": []
   },
   "outputs": [],
   "source": [
    "# Create a linear regression model\n",
    "gross_lr = LinearRegression()\n",
    "# Use forward elimination to select variables\n",
    "sfs_lr = fs.SequentialFeatureSelector(gross_lr, direction='forward', tol=0.05, n_features_to_select='auto')\n",
    "sfs_lr.fit(train_X, train_y)\n",
    "# Print a list of selected variables\n",
    "print(list(X.loc[:, sfs_lr.get_support()].columns))\n",
    "# Transform X data to only contain selected variables\n",
    "train_X_sel_lr = sfs_lr.transform(train_X)\n",
    "test_X_sel_lr = sfs_lr.transform(test_X)\n",
    "# Fit Linear Regression model using selected variables\n",
    "gross_lr.fit(train_X_sel_lr, train_y)\n",
    "# Predict values for test set\n",
    "test_y_pred_lr = gross_lr.predict(test_X_sel_lr)"
   ]
  },
  {
   "cell_type": "markdown",
   "id": "e96db607",
   "metadata": {
    "papermill": {
     "duration": 0.011192,
     "end_time": "2023-10-01T08:58:37.111896",
     "exception": false,
     "start_time": "2023-10-01T08:58:37.100704",
     "status": "completed"
    },
    "tags": []
   },
   "source": [
    "#### **Câștiguri brute K-Cei mai apropiați vecini**"
   ]
  },
  {
   "cell_type": "code",
   "execution_count": null,
   "id": "92ef4741",
   "metadata": {
    "execution": {
     "iopub.execute_input": "2023-10-01T08:58:37.134762Z",
     "iopub.status.busy": "2023-10-01T08:58:37.134400Z",
     "iopub.status.idle": "2023-10-01T08:58:39.878203Z",
     "shell.execute_reply": "2023-10-01T08:58:39.877400Z"
    },
    "papermill": {
     "duration": 2.757786,
     "end_time": "2023-10-01T08:58:39.880185",
     "exception": false,
     "start_time": "2023-10-01T08:58:37.122399",
     "status": "completed"
    },
    "tags": []
   },
   "outputs": [],
   "source": [
    "# Create a KNN regression model\n",
    "gross_knn = KNeighborsRegressor()\n",
    "# Use forward elimination to select variables\n",
    "sfs_knn = fs.SequentialFeatureSelector(gross_knn, direction='forward', tol=0.05, n_features_to_select='auto')\n",
    "sfs_knn.fit(train_X, train_y)\n",
    "# Print a list of selected variables\n",
    "print(list(X.loc[:, sfs_knn.get_support()].columns))\n",
    "# Transform X data to only contain selected variables\n",
    "train_X_sel_knn = sfs_knn.transform(train_X)\n",
    "test_X_sel_knn = sfs_knn.transform(test_X)\n",
    "# Perform a grid search with cross validation to select the most performant k value\n",
    "k_grid = {'n_neighbors': np.arange(1, np.floor(np.sqrt(len(train_X))), dtype=int)}\n",
    "gross_knn_gscv = GridSearchCV(gross_knn, k_grid, cv=5)\n",
    "gross_knn_gscv.fit(train_X_sel_knn, train_y)\n",
    "# Check the most performant k value found by grid search\n",
    "print(gross_knn_gscv.best_params_)\n",
    "# Set k value of KNN regression model to found K value\n",
    "gross_knn = KNeighborsRegressor(n_neighbors=gross_knn_gscv.best_params_['n_neighbors'])\n",
    "gross_knn.fit(train_X_sel_knn, train_y)\n",
    "# Predict values for test set\n",
    "test_y_pred_knn = gross_knn.predict(test_X_sel_knn)"
   ]
  },
  {
   "cell_type": "markdown",
   "id": "bb79d8f9",
   "metadata": {
    "papermill": {
     "duration": 0.010584,
     "end_time": "2023-10-01T08:58:39.901575",
     "exception": false,
     "start_time": "2023-10-01T08:58:39.890991",
     "status": "completed"
    },
    "tags": []
   },
   "source": [
    "#### **Comparație de model**"
   ]
  },
  {
   "cell_type": "code",
   "execution_count": null,
   "id": "af3f92a7",
   "metadata": {
    "execution": {
     "iopub.execute_input": "2023-10-01T08:58:39.924864Z",
     "iopub.status.busy": "2023-10-01T08:58:39.923932Z",
     "iopub.status.idle": "2023-10-01T08:58:39.933431Z",
     "shell.execute_reply": "2023-10-01T08:58:39.932392Z"
    },
    "papermill": {
     "duration": 0.023687,
     "end_time": "2023-10-01T08:58:39.935780",
     "exception": false,
     "start_time": "2023-10-01T08:58:39.912093",
     "status": "completed"
    },
    "tags": []
   },
   "outputs": [],
   "source": [
    "# Compute mean squared error and R^2 scores for the linear regression model\n",
    "gross_mse_lr = mean_squared_error(test_y, test_y_pred_lr)\n",
    "gross_r2_lr = r2_score(test_y, test_y_pred_lr)\n",
    "\n",
    "# Compute mean squared error and R^2 scores for the KNN regression model\n",
    "gross_mse_knn = mean_squared_error(test_y, test_y_pred_knn)\n",
    "gross_r2_knn = r2_score(test_y, test_y_pred_knn)\n",
    "\n",
    "print(\"Linear Regression - MSE: {}, R^2: {}\".format(gross_mse_lr, gross_r2_lr))\n",
    "print(\"K-Nearest Neighbors - MSE: {}, R^2: {}\".format(gross_mse_knn, gross_r2_knn))"
   ]
  },
  {
   "cell_type": "markdown",
   "id": "6ba48a78",
   "metadata": {
    "papermill": {
     "duration": 0.011002,
     "end_time": "2023-10-01T08:58:39.957646",
     "exception": false,
     "start_time": "2023-10-01T08:58:39.946644",
     "status": "completed"
    },
    "tags": []
   },
   "source": [
    "Din nou, modelul de regresie KNN depășește modelul de regresie liniară cu un MSE mai mic și R^2 mai mare. Deci, modelul de regresie KNN va fi folosit și pentru a imputa valoarea câștigului brut."
   ]
  },
  {
   "cell_type": "code",
   "execution_count": null,
   "id": "9d3c28f3",
   "metadata": {
    "execution": {
     "iopub.execute_input": "2023-10-01T08:58:39.980930Z",
     "iopub.status.busy": "2023-10-01T08:58:39.980367Z",
     "iopub.status.idle": "2023-10-01T08:58:40.076207Z",
     "shell.execute_reply": "2023-10-01T08:58:40.075071Z"
    },
    "papermill": {
     "duration": 0.110094,
     "end_time": "2023-10-01T08:58:40.078668",
     "exception": false,
     "start_time": "2023-10-01T08:58:39.968574",
     "status": "completed"
    },
    "tags": []
   },
   "outputs": [],
   "source": [
    "# Compute predicted values using KNN regression model for all rows and store it in new column 'pred_gross'\n",
    "movies_df['pred_gross'] = gross_knn.predict(np.array(movies_df['votes']).reshape(-1, 1))\n",
    "# Fill NaN values in original 'gross' column with corresponding 'pred_gross' value\n",
    "movies_df['gross'] = movies_df['gross'].fillna(movies_df['pred_gross'])"
   ]
  },
  {
   "cell_type": "markdown",
   "id": "a0829f9b",
   "metadata": {
    "papermill": {
     "duration": 0.010651,
     "end_time": "2023-10-01T08:58:40.100294",
     "exception": false,
     "start_time": "2023-10-01T08:58:40.089643",
     "status": "completed"
    },
    "tags": []
   },
   "source": [
    "### **Analiza exploratorie a datelor**"
   ]
  },
  {
   "cell_type": "code",
   "execution_count": null,
   "id": "99662b44",
   "metadata": {
    "execution": {
     "iopub.execute_input": "2023-10-01T08:58:40.123993Z",
     "iopub.status.busy": "2023-10-01T08:58:40.123379Z",
     "iopub.status.idle": "2023-10-01T08:58:40.161009Z",
     "shell.execute_reply": "2023-10-01T08:58:40.160019Z"
    },
    "papermill": {
     "duration": 0.052239,
     "end_time": "2023-10-01T08:58:40.163251",
     "exception": false,
     "start_time": "2023-10-01T08:58:40.111012",
     "status": "completed"
    },
    "tags": []
   },
   "outputs": [],
   "source": [
    "display(movies_df.dtypes)\n",
    "movies_df.describe()"
   ]
  },
  {
   "cell_type": "markdown",
   "id": "8955a22f",
   "metadata": {
    "papermill": {
     "duration": 0.010671,
     "end_time": "2023-10-01T08:58:40.185193",
     "exception": false,
     "start_time": "2023-10-01T08:58:40.174522",
     "status": "completed"
    },
    "tags": []
   },
   "source": [
    "#### **Trasarea datelor**"
   ]
  },
  {
   "cell_type": "markdown",
   "id": "d2714edb",
   "metadata": {
    "papermill": {
     "duration": 0.010465,
     "end_time": "2023-10-01T08:58:40.206562",
     "exception": false,
     "start_time": "2023-10-01T08:58:40.196097",
     "status": "completed"
    },
    "tags": []
   },
   "source": [
    "##### **Setarea stilului de diagramă**"
   ]
  },
  {
   "cell_type": "code",
   "execution_count": null,
   "id": "bc33ba91",
   "metadata": {
    "execution": {
     "iopub.execute_input": "2023-10-01T08:58:40.230226Z",
     "iopub.status.busy": "2023-10-01T08:58:40.229166Z",
     "iopub.status.idle": "2023-10-01T08:58:40.253500Z",
     "shell.execute_reply": "2023-10-01T08:58:40.252118Z"
    },
    "papermill": {
     "duration": 0.038412,
     "end_time": "2023-10-01T08:58:40.255739",
     "exception": false,
     "start_time": "2023-10-01T08:58:40.217327",
     "status": "completed"
    },
    "tags": []
   },
   "outputs": [],
   "source": [
    "sns.set(rc={'figure.figsize':(10, 10)})\n",
    "sns.set_context(rc = {'patch.linewidth': 0.0})\n",
    "try:\n",
    "    mpl.style.reload_library()\n",
    "    plt.style.use('rose-pine-matplotlib-main//themes//rose-pine-moon.mplstyle')\n",
    "    print(\"Using Rose Pine Moon theme found at https://github.com/h4pZ/rose-pine-matplotlib\")\n",
    "except:\n",
    "    print(\"Using default matplotlib style\")"
   ]
  },
  {
   "cell_type": "markdown",
   "id": "d24e3c8a",
   "metadata": {
    "papermill": {
     "duration": 0.011086,
     "end_time": "2023-10-01T08:58:40.278719",
     "exception": false,
     "start_time": "2023-10-01T08:58:40.267633",
     "status": "completed"
    },
    "tags": []
   },
   "source": [
    "**Oamenii preferă filme mai lungi sau mai scurte?**"
   ]
  },
  {
   "cell_type": "code",
   "execution_count": null,
   "id": "4b6aceff",
   "metadata": {
    "execution": {
     "iopub.execute_input": "2023-10-01T08:58:40.302718Z",
     "iopub.status.busy": "2023-10-01T08:58:40.301711Z",
     "iopub.status.idle": "2023-10-01T08:58:40.748369Z",
     "shell.execute_reply": "2023-10-01T08:58:40.747148Z"
    },
    "papermill": {
     "duration": 0.460908,
     "end_time": "2023-10-01T08:58:40.750537",
     "exception": false,
     "start_time": "2023-10-01T08:58:40.289629",
     "status": "completed"
    },
    "tags": []
   },
   "outputs": [],
   "source": [
    "sample_size=1000\n",
    "random_sample=movies_df.sample(n=sample_size,\n",
    "                               axis=0,\n",
    "                               random_state=1)\n",
    "rating_scatterplot = sns.scatterplot(x=random_sample['runtime'], y=random_sample['rating'], s=10)\n",
    "rating_scatterplot.set(xlabel='Runtime (m)',\n",
    "                       ylabel='Rating',)\n",
    "plt.suptitle('IMDb Ratings by Runtime',\n",
    "             y=0.93);\n",
    "plt.title('Pentru claritate, au fost reprezentate grafic doar 1000 de mostre aleatorii',\n",
    "          loc='center',\n",
    "          fontsize=10);\n",
    "print(\"Corelația dintre durata filmului și ratingul IMDb: {}\".format(movies_df['runtime'].corr(movies_df['rating'])))"
   ]
  },
  {
   "cell_type": "markdown",
   "id": "42533934",
   "metadata": {
    "papermill": {
     "duration": 0.01142,
     "end_time": "2023-10-01T08:58:40.797601",
     "exception": false,
     "start_time": "2023-10-01T08:58:40.786181",
     "status": "completed"
    },
    "tags": []
   },
   "source": [
    "**Care genuri de filme sunt cele mai bine evaluate?**"
   ]
  },
  {
   "cell_type": "code",
   "execution_count": null,
   "id": "a016206a",
   "metadata": {
    "execution": {
     "iopub.execute_input": "2023-10-01T08:58:40.822562Z",
     "iopub.status.busy": "2023-10-01T08:58:40.822193Z",
     "iopub.status.idle": "2023-10-01T08:58:42.288161Z",
     "shell.execute_reply": "2023-10-01T08:58:42.287243Z"
    },
    "papermill": {
     "duration": 1.481227,
     "end_time": "2023-10-01T08:58:42.290472",
     "exception": false,
     "start_time": "2023-10-01T08:58:40.809245",
     "status": "completed"
    },
    "tags": []
   },
   "outputs": [],
   "source": [
    "unique_genres = list(set(sum(movies_df['genre'], [])))\n",
    "genre_avg = find_avg_rating(unique_genres, \"genre\")\n",
    "genre_df = pd.DataFrame({'genre': unique_genres, 'avg_rating': genre_avg}).sort_values(by=['avg_rating'])\n",
    "\n",
    "genre_count = pd.Series(sum(movies_df['genre'], []))\n",
    "genre_order = genre_count.value_counts()"
   ]
  },
  {
   "cell_type": "code",
   "execution_count": null,
   "id": "f45ad3a2",
   "metadata": {
    "execution": {
     "iopub.execute_input": "2023-10-01T08:58:42.317240Z",
     "iopub.status.busy": "2023-10-01T08:58:42.316263Z",
     "iopub.status.idle": "2023-10-01T08:58:43.400758Z",
     "shell.execute_reply": "2023-10-01T08:58:43.399842Z"
    },
    "papermill": {
     "duration": 1.099594,
     "end_time": "2023-10-01T08:58:43.402702",
     "exception": false,
     "start_time": "2023-10-01T08:58:42.303108",
     "status": "completed"
    },
    "tags": []
   },
   "outputs": [],
   "source": [
    "fig, axes = plt.subplots(1, 2, figsize=(35, 15), gridspec_kw={'hspace': 0.5})\n",
    "\n",
    "sns.barplot(data=genre_df, x=genre_df['genre'], y=genre_df['avg_rating'], ax=axes[0])\n",
    "sns.barplot(x = genre_order.index, y = genre_order, ax=axes[1])\n",
    "\n",
    "axes[0].tick_params(axis='x', rotation=90, labelsize=20)\n",
    "axes[1].tick_params(axis='x', rotation=90, labelsize=20)\n",
    "\n",
    "axes[0].tick_params(axis='y', labelsize=20)\n",
    "axes[1].tick_params(axis='y', labelsize=20)\n",
    "\n",
    "axes[0].set_xlabel('Gen', fontsize=20)\n",
    "axes[0].set_ylabel('Evaluare medie IMDb', fontsize=20)\n",
    "axes[0].set_title('Evaluare medie IMDb în funcție de gen', fontsize=25)\n",
    "\n",
    "axes[1].set_xlabel('Gen', fontsize=20)\n",
    "axes[1].set_ylabel('# a Filmelor', fontsize=20)\n",
    "axes[1].set_title('Numărul de filme de top după gen', fontsize=25)\n",
    "\n",
    "plt.show()"
   ]
  },
  {
   "cell_type": "markdown",
   "id": "07d5e1ca",
   "metadata": {
    "papermill": {
     "duration": 0.013713,
     "end_time": "2023-10-01T08:58:43.458302",
     "exception": false,
     "start_time": "2023-10-01T08:58:43.444589",
     "status": "completed"
    },
    "tags": []
   },
   "source": [
    "**Oamenii preferă filmele mai vechi sau mai noi?**"
   ]
  },
  {
   "cell_type": "code",
   "execution_count": null,
   "id": "c02c9498",
   "metadata": {
    "execution": {
     "iopub.execute_input": "2023-10-01T08:58:43.490038Z",
     "iopub.status.busy": "2023-10-01T08:58:43.489173Z",
     "iopub.status.idle": "2023-10-01T08:58:44.496725Z",
     "shell.execute_reply": "2023-10-01T08:58:44.495382Z"
    },
    "papermill": {
     "duration": 1.025269,
     "end_time": "2023-10-01T08:58:44.499263",
     "exception": false,
     "start_time": "2023-10-01T08:58:43.473994",
     "status": "completed"
    },
    "tags": []
   },
   "outputs": [],
   "source": [
    "year_order = movies_df['year'].value_counts()\n",
    "\n",
    "unique_years = list(movies_df['year'].unique())\n",
    "year_ratings = find_avg_rating(unique_years, \"year\")\n",
    "year_df = pd.DataFrame({'year': unique_years, 'avg_rating': year_ratings}).sort_values(by=['avg_rating'])"
   ]
  },
  {
   "cell_type": "code",
   "execution_count": null,
   "id": "66dcf912",
   "metadata": {
    "execution": {
     "iopub.execute_input": "2023-10-01T08:58:44.529667Z",
     "iopub.status.busy": "2023-10-01T08:58:44.529299Z",
     "iopub.status.idle": "2023-10-01T08:58:45.350735Z",
     "shell.execute_reply": "2023-10-01T08:58:45.349676Z"
    },
    "papermill": {
     "duration": 0.840717,
     "end_time": "2023-10-01T08:58:45.354386",
     "exception": false,
     "start_time": "2023-10-01T08:58:44.513669",
     "status": "completed"
    },
    "tags": []
   },
   "outputs": [],
   "source": [
    "fig, axes = plt.subplots(1, 2, figsize=(35, 15), gridspec_kw={'hspace': 0.5})\n",
    "\n",
    "sns.scatterplot(data=year_df, x='year', y='avg_rating', ax=axes[0])\n",
    "sns.lineplot(x = year_order.index, y = year_order, ax=axes[1])\n",
    "\n",
    "axes[0].tick_params(axis='x', rotation=90, labelsize=20)\n",
    "axes[1].tick_params(axis='x', rotation=90, labelsize=20)\n",
    "\n",
    "axes[0].tick_params(axis='y', labelsize=20)\n",
    "axes[1].tick_params(axis='y', labelsize=20)\n",
    "\n",
    "axes[0].set_xlabel('An', fontsize=20)\n",
    "axes[0].set_ylabel('Evaluare medie IMDb', fontsize=20)\n",
    "axes[0].set_title('Evaluare medie IMDb pe an', fontsize=25)\n",
    "\n",
    "axes[1].set_xlabel('An', fontsize=20)\n",
    "axes[1].set_ylabel('# a Filmelor', fontsize=20)\n",
    "axes[1].set_title('Numărul de filme de top pe an', fontsize=25)\n",
    "\n",
    "plt.show()"
   ]
  },
  {
   "cell_type": "markdown",
   "id": "21cbd841",
   "metadata": {
    "papermill": {
     "duration": 0.016732,
     "end_time": "2023-10-01T08:58:45.422306",
     "exception": false,
     "start_time": "2023-10-01T08:58:45.405574",
     "status": "completed"
    },
    "tags": []
   },
   "source": [
    "**Care actori/actrițe apar în cele mai bune filme?**"
   ]
  },
  {
   "cell_type": "code",
   "execution_count": null,
   "id": "70929915",
   "metadata": {
    "execution": {
     "iopub.execute_input": "2023-10-01T08:58:45.458261Z",
     "iopub.status.busy": "2023-10-01T08:58:45.457843Z",
     "iopub.status.idle": "2023-10-01T08:58:58.303150Z",
     "shell.execute_reply": "2023-10-01T08:58:58.302144Z"
    },
    "papermill": {
     "duration": 12.866562,
     "end_time": "2023-10-01T08:58:58.305759",
     "exception": false,
     "start_time": "2023-10-01T08:58:45.439197",
     "status": "completed"
    },
    "tags": []
   },
   "outputs": [],
   "source": [
    "stars_count = pd.Series(sum(movies_df['stars'], []))\n",
    "stars_order = stars_count.value_counts()\n",
    "\n",
    "unique_stars = stars_order[stars_order > 10].index\n",
    "stars_avg = find_avg_rating(unique_stars, \"stars\")\n",
    "stars_df = pd.DataFrame({'stars': unique_stars, 'avg_rating': stars_avg}).sort_values(by=['avg_rating']).dropna()"
   ]
  },
  {
   "cell_type": "code",
   "execution_count": null,
   "id": "52ade63a",
   "metadata": {
    "execution": {
     "iopub.execute_input": "2023-10-01T08:58:58.342157Z",
     "iopub.status.busy": "2023-10-01T08:58:58.341750Z",
     "iopub.status.idle": "2023-10-01T08:58:59.653912Z",
     "shell.execute_reply": "2023-10-01T08:58:59.652731Z"
    },
    "papermill": {
     "duration": 1.336193,
     "end_time": "2023-10-01T08:58:59.659239",
     "exception": false,
     "start_time": "2023-10-01T08:58:58.323046",
     "status": "completed"
    },
    "tags": []
   },
   "outputs": [],
   "source": [
    "fig, axes = plt.subplots(1, 2, figsize=(35, 15), gridspec_kw={'hspace': 0.5})\n",
    "\n",
    "sns.barplot(x = stars_order[0:30].index, y = stars_order[0:30], ax=axes[0])\n",
    "sns.barplot(data=stars_df[-30:], x='stars', y='avg_rating', ax=axes[1])\n",
    "\n",
    "axes[0].tick_params(axis='x', rotation=90, labelsize=20)\n",
    "axes[1].tick_params(axis='x', rotation=90, labelsize=20)\n",
    "\n",
    "axes[0].tick_params(axis='y', labelsize=20)\n",
    "axes[1].tick_params(axis='y', labelsize=20)\n",
    "\n",
    "axes[0].set_xlabel('Nume', fontsize=20)\n",
    "axes[0].set_ylabel('# de Apariții', fontsize=20)\n",
    "axes[0].set_title('Top 30 de actori și actrițe după numărul de apariții', fontsize=25)\n",
    "\n",
    "axes[1].set_xlabel('Nume', fontsize=20)\n",
    "axes[1].set_ylabel('Evaluare medie IMDb', fontsize=20)\n",
    "axes[1].set_title('Top 30 de actori și actrițe după evaluarea medie IMDb', fontsize=25)\n",
    "axes[1].text(0.5, 0.95, 'Filtrat după Actori/Actrițe cu cel puțin 10 apariții', ha='center', va='center',\n",
    "             transform=axes[1].transAxes, fontsize=20)\n",
    "\n",
    "plt.show()"
   ]
  },
  {
   "cell_type": "markdown",
   "id": "4fb9f960",
   "metadata": {
    "papermill": {
     "duration": 0.022413,
     "end_time": "2023-10-01T08:58:59.749821",
     "exception": false,
     "start_time": "2023-10-01T08:58:59.727408",
     "status": "completed"
    },
    "tags": []
   },
   "source": [
    "**Care regizori regizează cele mai bune filme?**"
   ]
  },
  {
   "cell_type": "code",
   "execution_count": null,
   "id": "f580593d",
   "metadata": {
    "execution": {
     "iopub.execute_input": "2023-10-01T08:58:59.799173Z",
     "iopub.status.busy": "2023-10-01T08:58:59.798475Z",
     "iopub.status.idle": "2023-10-01T08:59:16.850749Z",
     "shell.execute_reply": "2023-10-01T08:59:16.849426Z"
    },
    "papermill": {
     "duration": 17.080216,
     "end_time": "2023-10-01T08:59:16.853740",
     "exception": false,
     "start_time": "2023-10-01T08:58:59.773524",
     "status": "completed"
    },
    "tags": []
   },
   "outputs": [],
   "source": [
    "dir_count = pd.Series(sum(movies_df['director'], []))\n",
    "dir_order = dir_count.value_counts(ascending=True)\n",
    "\n",
    "unique_dir = dir_order[dir_order > 10].index\n",
    "dir_avg = find_avg_rating(unique_dir, \"director\")\n",
    "dir_df = pd.DataFrame({'director': unique_dir, 'avg_rating': dir_avg}).sort_values(by=['avg_rating']).dropna()"
   ]
  },
  {
   "cell_type": "code",
   "execution_count": null,
   "id": "e16ee4f5",
   "metadata": {
    "execution": {
     "iopub.execute_input": "2023-10-01T08:59:16.905172Z",
     "iopub.status.busy": "2023-10-01T08:59:16.904432Z",
     "iopub.status.idle": "2023-10-01T08:59:18.369583Z",
     "shell.execute_reply": "2023-10-01T08:59:18.368766Z"
    },
    "papermill": {
     "duration": 1.495723,
     "end_time": "2023-10-01T08:59:18.374971",
     "exception": false,
     "start_time": "2023-10-01T08:59:16.879248",
     "status": "completed"
    },
    "tags": []
   },
   "outputs": [],
   "source": [
    "fig, axes = plt.subplots(1, 2, figsize=(35, 15), gridspec_kw={'hspace': 0.5})\n",
    "\n",
    "sns.barplot(x = dir_order[-30:].index, y = dir_order[-30:], ax=axes[0])\n",
    "sns.barplot(data=dir_df[-30:], x='director', y='avg_rating', ax=axes[1])\n",
    "\n",
    "axes[0].tick_params(axis='x', rotation=90, labelsize=20)\n",
    "axes[1].tick_params(axis='x', rotation=90, labelsize=20)\n",
    "\n",
    "axes[0].tick_params(axis='y', labelsize=20)\n",
    "axes[1].tick_params(axis='y', labelsize=20)\n",
    "\n",
    "axes[0].set_xlabel('Nume', fontsize=20)\n",
    "axes[0].set_ylabel('# de Apariții', fontsize=20)\n",
    "axes[0].set_title('Top 30 regizori după numărul de filme de top', fontsize=25)\n",
    "\n",
    "axes[1].set_xlabel('Nume', fontsize=20)\n",
    "axes[1].set_ylabel('Evaluare medie IMDb', fontsize=20)\n",
    "axes[1].set_title('Top 30 de regizori după evaluarea medie IMDb', fontsize=25)\n",
    "axes[1].text(0.5, 0.95, 'Filtrat de regizori cu cel puțin 10 filme', ha='center', va='center',\n",
    "             transform=axes[1].transAxes, fontsize=20)\n",
    "\n",
    "plt.show()"
   ]
  },
  {
   "cell_type": "markdown",
   "id": "d0ca2afe",
   "metadata": {
    "papermill": {
     "duration": 0.028176,
     "end_time": "2023-10-01T08:59:18.487340",
     "exception": false,
     "start_time": "2023-10-01T08:59:18.459164",
     "status": "completed"
    },
    "tags": []
   },
   "source": [
    "**Filmele populare sunt evaluate mai bine?**"
   ]
  },
  {
   "cell_type": "code",
   "execution_count": null,
   "id": "3dff1d40",
   "metadata": {
    "execution": {
     "iopub.execute_input": "2023-10-01T08:59:18.544771Z",
     "iopub.status.busy": "2023-10-01T08:59:18.544431Z",
     "iopub.status.idle": "2023-10-01T08:59:19.042827Z",
     "shell.execute_reply": "2023-10-01T08:59:19.042039Z"
    },
    "papermill": {
     "duration": 0.529675,
     "end_time": "2023-10-01T08:59:19.045503",
     "exception": false,
     "start_time": "2023-10-01T08:59:18.515828",
     "status": "completed"
    },
    "tags": []
   },
   "outputs": [],
   "source": [
    "pop_sample = movies_df.sample(n=sample_size)\n",
    "pop_scatterplot=sns.regplot(data=pop_sample, x='votes', y='rating')\n",
    "\n",
    "pop_scatterplot.set(xlabel='# de Voturi',\n",
    "                    ylabel='Evaluare IMDb',\n",
    "                    title='Evaluarea IMDb vs. Numărul de voturi')\n",
    "plt.xticks(rotation=90)\n",
    "plt.ticklabel_format(style='plain', axis='x')"
   ]
  }
 ],
 "metadata": {
  "kernelspec": {
   "display_name": "Python 3",
   "language": "python",
   "name": "python3"
  },
  "language_info": {
   "codemirror_mode": {
    "name": "ipython",
    "version": 3
   },
   "file_extension": ".py",
   "mimetype": "text/x-python",
   "name": "python",
   "nbconvert_exporter": "python",
   "pygments_lexer": "ipython3",
   "version": "3.10.1"
  },
  "papermill": {
   "default_parameters": {},
   "duration": 52.419036,
   "end_time": "2023-10-01T08:59:19.910849",
   "environment_variables": {},
   "exception": null,
   "input_path": "__notebook__.ipynb",
   "output_path": "__notebook__.ipynb",
   "parameters": {},
   "start_time": "2023-10-01T08:58:27.491813",
   "version": "2.4.0"
  }
 },
 "nbformat": 4,
 "nbformat_minor": 5
}
